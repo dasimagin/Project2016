{
 "cells": [
  {
   "cell_type": "markdown",
   "metadata": {},
   "source": [
    "# Линейный классификатор"
   ]
  },
  {
   "cell_type": "markdown",
   "metadata": {},
   "source": [
    "### 1. Генерация выборки"
   ]
  },
  {
   "cell_type": "markdown",
   "metadata": {
    "collapsed": false
   },
   "source": [
    "Машинное обучение всегда начинается с данных.\n",
    "Для первого раза нам будет достаточно случайно сгенерированных точек в пространстве $\\mathbb{R}^{2}$. Задно мы начнем наше знакомство с библиотекой <a href=\"http://docs.scipy.org/doc/numpy/\">numpy</a>.\n",
    "\n",
    "В качестве случайного распределения предлагаю взять <a href=\"https://en.wikipedia.org/wiki/Multivariate_normal_distribution\">многоменое нормальное распределение</a>. У каждого класса будет свой центр $\\mu$, а все точки из класса разбросаны случайно в соответствии с распредилением $\\mathcal{N}(\\mu, \\Sigma)$, где $\\Sigma$ -  диагональная матрица, где на главной диагонали находятся дисперсия разброса точек по каждой оси.\n",
    "\n",
    "Звучит это, пожалуй, сложно, но на деле сущая ерунда! Загрузим библиотеку."
   ]
  },
  {
   "cell_type": "code",
   "execution_count": 1,
   "metadata": {
    "collapsed": true
   },
   "outputs": [],
   "source": [
    "import numpy as np"
   ]
  },
  {
   "cell_type": "markdown",
   "metadata": {},
   "source": [
    "Теперь создадим два вектора с помощью функции <a hred=\"http://docs.scipy.org/doc/numpy/reference/generated/numpy.array.html#numpy.array\">array</a>. "
   ]
  },
  {
   "cell_type": "code",
   "execution_count": 2,
   "metadata": {
    "collapsed": false
   },
   "outputs": [],
   "source": [
    "mu_red = np.array([-2, 0])\n",
    "mu_blue = np.array([1, 2])"
   ]
  },
  {
   "cell_type": "markdown",
   "metadata": {},
   "source": [
    "Попробуем распечатать их. И узнаем размерность."
   ]
  },
  {
   "cell_type": "code",
   "execution_count": 3,
   "metadata": {
    "collapsed": false
   },
   "outputs": [
    {
     "name": "stdout",
     "output_type": "stream",
     "text": [
      "mu_red = [-2  0], shape = (2,)\n"
     ]
    }
   ],
   "source": [
    "print('mu_red = {}, shape = {}'.format(mu_red, mu_red.shape))"
   ]
  },
  {
   "cell_type": "markdown",
   "metadata": {},
   "source": [
    "Теперь сгенерируем данные. Предлагаю не заморчиваться и в качестве матрицы ковариаций использовать единичную. Тем более для ее создания есть готовая функция <a href=\"http://docs.scipy.org/doc/numpy/reference/generated/numpy.eye.html#numpy-eye\">eye</a>."
   ]
  },
  {
   "cell_type": "code",
   "execution_count": 4,
   "metadata": {
    "collapsed": false
   },
   "outputs": [
    {
     "name": "stdout",
     "output_type": "stream",
     "text": [
      "[[ 1.  0.]\n",
      " [ 0.  1.]]\n"
     ]
    }
   ],
   "source": [
    "I = np.eye(2, 2)\n",
    "print(I)"
   ]
  },
  {
   "cell_type": "markdown",
   "metadata": {},
   "source": [
    "Теперь самое время заняться генерацией точек. В этом нам поможет модуль <a href=\"http://docs.scipy.org/doc/numpy/reference/routines.random.html\">numpy.random</a>. Давайте сгенериуруем по 100 точек каждого цвета. У нас есть уже готовая функция <a href=\"http://docs.scipy.org/doc/numpy/reference/generated/numpy.random.multivariate_normal.html#numpy.random.multivariate_normal\">multivariate_normal</a>."
   ]
  },
  {
   "cell_type": "code",
   "execution_count": 5,
   "metadata": {
    "collapsed": true
   },
   "outputs": [],
   "source": [
    "n = 100"
   ]
  },
  {
   "cell_type": "markdown",
   "metadata": {},
   "source": [
    "При этом сразу же сделаем вектор с меткой класса: для красных 1, а для синих -1."
   ]
  },
  {
   "cell_type": "code",
   "execution_count": 6,
   "metadata": {
    "collapsed": false
   },
   "outputs": [],
   "source": [
    "X_red = np.random.multivariate_normal(mu_red, I, n)\n",
    "y_red = np.ones(shape=(n,1))\n",
    "\n",
    "X_blue = np.random.multivariate_normal(mu_blue, I, n)\n",
    "y_blue = -np.ones(shape=(n,1))"
   ]
  },
  {
   "cell_type": "markdown",
   "metadata": {},
   "source": [
    "Конечно, мы можем снова распечатать полученные матрицы. Но это не слишком наглядно. Давайте попробуем немного порисовать. Для этого мы воспользуемся библиотекой <a href=\"http://matplotlib.org/api/pyplot_summary.html\">pyplot</a>."
   ]
  },
  {
   "cell_type": "code",
   "execution_count": 7,
   "metadata": {
    "collapsed": true
   },
   "outputs": [],
   "source": [
    "import matplotlib.pyplot as pl"
   ]
  },
  {
   "cell_type": "markdown",
   "metadata": {},
   "source": [
    "Для того, чтобы все графики рисовались прям здесь, нужно вызвать небольшую команду."
   ]
  },
  {
   "cell_type": "code",
   "execution_count": 8,
   "metadata": {
    "collapsed": true
   },
   "outputs": [],
   "source": [
    "%matplotlib inline "
   ]
  },
  {
   "cell_type": "code",
   "execution_count": 9,
   "metadata": {
    "collapsed": false
   },
   "outputs": [
    {
     "data": {
      "text/plain": [
       "<matplotlib.collections.PathCollection at 0x10d37cf60>"
      ]
     },
     "execution_count": 9,
     "metadata": {},
     "output_type": "execute_result"
    },
    {
     "data": {
      "image/png": "[encoded data removed]",
      "text/plain": [
       "<matplotlib.figure.Figure at 0x10d3153c8>"
      ]
     },
     "metadata": {},
     "output_type": "display_data"
    }
   ],
   "source": [
    "pl.figure(figsize=(16, 10))\n",
    "\n",
    "pl.scatter(X_red[:, 0], X_red[:, 1], s=80, color='red', alpha=0.3)\n",
    "pl.scatter(X_blue[:, 0], X_blue[:, 1], s=80, color='blue', alpha=0.3)"
   ]
  },
  {
   "cell_type": "markdown",
   "metadata": {},
   "source": [
    "Вот сейчас произошло много интересного. Во-первых, мы попробовали функцию <a = href=\"http://matplotlib.org/api/pyplot_api.html#matplotlib.pyplot.scatter\">scatter</a>. А во-вторых, научились делать срезы на матрицах из numpy. Подробнее об этом можно почитать <a href=\"http://docs.scipy.org/doc/numpy/user/basics.indexing.html\">здесь</a>."
   ]
  },
  {
   "cell_type": "markdown",
   "metadata": {},
   "source": [
    "### 2. Первое обучение."
   ]
  },
  {
   "cell_type": "markdown",
   "metadata": {},
   "source": [
    "Итак, мы хотим обучить свой первый линейный классификатор. Для этого мы хотим решить задачу линейной регрессии. Мы предполагаем, что"
   ]
  },
  {
   "cell_type": "markdown",
   "metadata": {},
   "source": [
    "<center> $\\hat{y} = w_0 + w_1x_1 + w_2x_2$, где  $w = (w_0, w_1, w_2)$. </center>"
   ]
  },
  {
   "cell_type": "markdown",
   "metadata": {},
   "source": [
    "Тогда, если приписать к X слева столбец из $1$, то все сводится к задаче"
   ]
  },
  {
   "cell_type": "markdown",
   "metadata": {},
   "source": [
    "<center>$\\begin{align*} \\min_{w} \\sum_{x \\in X} \\big(wx - y \\big)^2\\end{align*}$.</center>"
   ]
  },
  {
   "cell_type": "markdown",
   "metadata": {},
   "source": [
    "Для обучения воспользуемся библиотекой <a href=\"http://scikit-learn.org\">sklearn</a>. В частности нас интересует <a href=\"http://scikit-learn.org/stable/modules/linear_model.html#ordinary-least-squares\">квадритичная регрессия</a>."
   ]
  },
  {
   "cell_type": "code",
   "execution_count": 10,
   "metadata": {
    "collapsed": true
   },
   "outputs": [],
   "source": [
    "from sklearn import linear_model as lm"
   ]
  },
  {
   "cell_type": "markdown",
   "metadata": {},
   "source": [
    "Для начала нужно немного реорганизовать наши данные для обучения."
   ]
  },
  {
   "cell_type": "code",
   "execution_count": 11,
   "metadata": {
    "collapsed": false
   },
   "outputs": [],
   "source": [
    "X_train = np.vstack([X_red, X_blue])\n",
    "y_train = np.vstack([y_red, y_blue])"
   ]
  },
  {
   "cell_type": "markdown",
   "metadata": {},
   "source": [
    "Тут мы воспользовались классной функцией <a href=\"http://docs.scipy.org/doc/numpy/reference/generated/numpy.vstack.html\">vstack</a>. Есть еще много разных утилит, которые облегчают работу с матрицами, об этом можно почитать <a href=\"http://docs.scipy.org/doc/numpy/reference/routines.array-manipulation.html\">здесь</a>."
   ]
  },
  {
   "cell_type": "markdown",
   "metadata": {},
   "source": [
    "А сейчас обучим модель. Задача линейно регресси на самом деле хорошо изучена, и для нее известно аналитическое решение. Если задачу минимизации переписать в матричном виде\n",
    "\n",
    "<center>$\\begin{align*}\\min_w \\big|~Xw - y~\\big|^2_{2}\\end{align*}$</center>.\n",
    "\n",
    "Применимо к нашим размерностям:\n",
    "  * $X$ – матрица $2 \\times 2n$, где в $\\mathcal{i}$-й строке содержится $\\mathcal{i}$-й вектор признаков\n",
    "  * $y$ – вектор меток размера $2n \\times 1$.\n",
    "  * $w$ – искомый вектор весов $2n \\times 1$.\n",
    "  * $|\\cdot|^2$ – квадрат <a href=\"https://en.wikipedia.org/wiki/Norm_(mathematics)\">евклидовой нормы</a>.\n",
    "  \n",
    "Подробнее об этом можно почитать <a href=\"https://en.wikipedia.org/wiki/Ordinary_least_squares\">здесь</a>, правда там задача имеет несколько иную постановку. Нас же больше интересует результа, что аналитическое решение для вектора $w$ выглядит следующим образом:\n",
    "\n",
    "<center>$\\begin{align*}w = (X^{T}X)^{-1}X^Ty\\end{align*}$</center>,\n",
    "\n",
    "где $(X^{T}X)^{-1}X^T$ так называемая псевдообратная матрица."
   ]
  },
  {
   "cell_type": "code",
   "execution_count": 13,
   "metadata": {
    "collapsed": false
   },
   "outputs": [
    {
     "name": "stdout",
     "output_type": "stream",
     "text": [
      "(w0, w1, w2) = (-0.021148364952048859, -0.38185624679472402, -0.18739073326342232)\n"
     ]
    }
   ],
   "source": [
    "classifier = lm.LinearRegression()\n",
    "classifier.fit(X_train, y_train)\n",
    "\n",
    "w0 = classifier.intercept_[0]\n",
    "w1, w2 = classifier.coef_[0][0], classifier.coef_[0][1]\n",
    "\n",
    "print('(w0, w1, w2) = {}'.format((w0, w1, w2)))"
   ]
  },
  {
   "cell_type": "markdown",
   "metadata": {},
   "source": [
    "Попробуем теперь построить разделяющуюу прямую."
   ]
  },
  {
   "cell_type": "code",
   "execution_count": 14,
   "metadata": {
    "collapsed": true
   },
   "outputs": [],
   "source": [
    "def l(x):\n",
    "    return -(w0 + w1*x)/w2"
   ]
  },
  {
   "cell_type": "code",
   "execution_count": 15,
   "metadata": {
    "collapsed": false
   },
   "outputs": [
    {
     "data": {
      "text/plain": [
       "[<matplotlib.lines.Line2D at 0x10f630978>]"
      ]
     },
     "execution_count": 15,
     "metadata": {},
     "output_type": "execute_result"
    },
    {
     "data": {
      "image/png": "[encoded data removed]",
      "text/plain": [
       "<matplotlib.figure.Figure at 0x10f625438>"
      ]
     },
     "metadata": {},
     "output_type": "display_data"
    }
   ],
   "source": [
    "pl.figure(figsize=(16, 10))\n",
    "\n",
    "pl.scatter(X_red[:, 0], X_red[:, 1], s=80, color='red', alpha=0.3)\n",
    "pl.scatter(X_blue[:, 0], X_blue[:, 1], s=80, color='blue', alpha=0.3)\n",
    "\n",
    "pl.plot([-2, 2], [l(-2), l(2)], color='green', linewidth=4, alpha=0.3)"
   ]
  },
  {
   "cell_type": "markdown",
   "metadata": {},
   "source": [
    "### 3. Первое тестирование."
   ]
  },
  {
   "cell_type": "markdown",
   "metadata": {},
   "source": [
    "Очевидно, что наш способ генерации выборки не делает ее линейно разделимой, однако даже наша простая линейная может показывать уже какое-то пристойне качество. Давайте попробуем его подсчитать. Для этого воспользуемся самой интуитивно понятной метрикой - число неверных классификации.\n",
    "\n",
    "Для этого сгенерируем еще одну выборку, только уже тестовую."
   ]
  },
  {
   "cell_type": "code",
   "execution_count": 22,
   "metadata": {
    "collapsed": false
   },
   "outputs": [],
   "source": [
    "n_test = 100\n",
    "\n",
    "X_red_test = np.random.multivariate_normal(mu_red, I, n_test)\n",
    "y_red_test = np.ones(shape=(n_test, 1))\n",
    "\n",
    "X_blue_test = np.random.multivariate_normal(mu_blue, I, n_test)\n",
    "y_blue_test = -np.ones(shape=(n_test, 1))"
   ]
  },
  {
   "cell_type": "markdown",
   "metadata": {},
   "source": [
    "Соберем из этого тестовую выборку."
   ]
  },
  {
   "cell_type": "code",
   "execution_count": 23,
   "metadata": {
    "collapsed": false
   },
   "outputs": [],
   "source": [
    "X_test = np.vstack([X_red_test, X_blue_test])\n",
    "y_test = np.vstack([y_red_test, y_blue_test])"
   ]
  },
  {
   "cell_type": "markdown",
   "metadata": {
    "collapsed": true
   },
   "source": [
    "А теперь воспользуемся уже готовой следующей <a href=\"http://scikit-learn.org/stable/modules/model_evaluation.html#accuracy-score\">метрикой</a>."
   ]
  },
  {
   "cell_type": "code",
   "execution_count": 24,
   "metadata": {
    "collapsed": false
   },
   "outputs": [],
   "source": [
    "from sklearn.metrics import accuracy_score as accuracy"
   ]
  },
  {
   "cell_type": "markdown",
   "metadata": {},
   "source": [
    "Сначала получим ответ классификатора."
   ]
  },
  {
   "cell_type": "code",
   "execution_count": 19,
   "metadata": {
    "collapsed": false
   },
   "outputs": [],
   "source": [
    "y_pred = classifier.predict(X_test)"
   ]
  },
  {
   "cell_type": "markdown",
   "metadata": {},
   "source": [
    "Но, так как мы на самом деле используем регрессионную модель, то ответ нужно несколько причесать. Все числа больше 0 заменить на 1. А все меньшие на -1."
   ]
  },
  {
   "cell_type": "code",
   "execution_count": 25,
   "metadata": {
    "collapsed": true
   },
   "outputs": [],
   "source": [
    "y_pred[y_pred >= 0] = 1\n",
    "y_pred[y_pred < 0] = -1"
   ]
  },
  {
   "cell_type": "code",
   "execution_count": 26,
   "metadata": {
    "collapsed": false
   },
   "outputs": [
    {
     "name": "stdout",
     "output_type": "stream",
     "text": [
      "0.965\n"
     ]
    }
   ],
   "source": [
    "print(accuracy(y_test, y_pred))"
   ]
  }
 ],
 "metadata": {
  "kernelspec": {
   "display_name": "Python 3",
   "language": "python",
   "name": "python3"
  },
  "language_info": {
   "codemirror_mode": {
    "name": "ipython",
    "version": 3
   },
   "file_extension": ".py",
   "mimetype": "text/x-python",
   "name": "python",
   "nbconvert_exporter": "python",
   "pygments_lexer": "ipython3",
   "version": "3.5.1"
  }
 },
 "nbformat": 4,
 "nbformat_minor": 0
}
