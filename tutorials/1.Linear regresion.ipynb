{
 "cells": [
  {
   "cell_type": "markdown",
   "metadata": {},
   "source": [
    "# Линейный классификатор"
   ]
  },
  {
   "cell_type": "markdown",
   "metadata": {},
   "source": [
    "### 1. Генерация выборки"
   ]
  },
  {
   "cell_type": "markdown",
   "metadata": {
    "collapsed": false
   },
   "source": [
    "Машинное обучение всегда начинается с данных.\n",
    "Для первого раза нам будет достаточно случайно сгенерированных точек в пространстве $\\mathbb{R}^{2}$. Задно мы начнем наше знакомство с библиотекой <a href=\"http://docs.scipy.org/doc/numpy/\">numpy</a>.\n",
    "\n",
    "В качестве случайного распределения предлагаю взять <a href=\"https://en.wikipedia.org/wiki/Multivariate_normal_distribution\">многоменое нормальное распределение</a>. У каждого класса будет свой центр $\\mu$, а все точки из обучающего множества разбросаны случайно в соответствии с распредилением $\\mathcal{N}(\\mu, \\Sigma)$, где $\\Sigma$ -  диагональная матрица, где на главной диагонали находятся дисперсия разброса точек по каждой оси.\n",
    "\n",
    "Звучит это, пожалуй, сложно, но на деле сущая ерунда! Загрузим библиотеку."
   ]
  },
  {
   "cell_type": "code",
   "execution_count": 1,
   "metadata": {
    "collapsed": true
   },
   "outputs": [],
   "source": [
    "import numpy as np"
   ]
  },
  {
   "cell_type": "markdown",
   "metadata": {},
   "source": [
    "Теперь создадим два вектора с помощью функции <a hred=\"http://docs.scipy.org/doc/numpy/reference/generated/numpy.array.html#numpy.array\">array</a>. "
   ]
  },
  {
   "cell_type": "code",
   "execution_count": 2,
   "metadata": {
    "collapsed": false
   },
   "outputs": [],
   "source": [
    "mu_red = np.array([-2, 0])\n",
    "mu_blue = np.array([2, 2])"
   ]
  },
  {
   "cell_type": "markdown",
   "metadata": {},
   "source": [
    "Попробуем распечатать их. И узнаем размерность."
   ]
  },
  {
   "cell_type": "code",
   "execution_count": 3,
   "metadata": {
    "collapsed": false
   },
   "outputs": [
    {
     "name": "stdout",
     "output_type": "stream",
     "text": [
      "mu_red = [-2  0], shape = (2,)\n"
     ]
    }
   ],
   "source": [
    "print('mu_red = {}, shape = {}'.format(mu_red, mu_red.shape))"
   ]
  },
  {
   "cell_type": "markdown",
   "metadata": {},
   "source": [
    "Теперь сгенерируем данные. Предлагаю не заморчиваться и в качестве матрицы ковариаций использовать единичную. Тем более для ее создания есть готовая функция <a href=\"http://docs.scipy.org/doc/numpy/reference/generated/numpy.eye.html#numpy-eye\">eye</a>."
   ]
  },
  {
   "cell_type": "code",
   "execution_count": 4,
   "metadata": {
    "collapsed": false
   },
   "outputs": [
    {
     "name": "stdout",
     "output_type": "stream",
     "text": [
      "[[ 1.  0.]\n",
      " [ 0.  1.]]\n"
     ]
    }
   ],
   "source": [
    "I = np.eye(2, 2)\n",
    "print(I)"
   ]
  },
  {
   "cell_type": "markdown",
   "metadata": {},
   "source": [
    "Теперь самое время заняться генерацией точек. В этом нам поможет модуль <a href=\"http://docs.scipy.org/doc/numpy/reference/routines.random.html\">numpy.random</a>. Давайте сгенериуруем по 100 точек каждого цвета. У нас есть уже готовая <a href=\"http://docs.scipy.org/doc/numpy/reference/generated/numpy.random.multivariate_normal.html#numpy.random.multivariate_normal\">функция</a>."
   ]
  },
  {
   "cell_type": "code",
   "execution_count": 5,
   "metadata": {
    "collapsed": true
   },
   "outputs": [],
   "source": [
    "N = 100"
   ]
  },
  {
   "cell_type": "markdown",
   "metadata": {},
   "source": [
    "При этом сразу же сделаем вектор с меткой класса: для красных 1, а для синих -1."
   ]
  },
  {
   "cell_type": "code",
   "execution_count": 6,
   "metadata": {
    "collapsed": false
   },
   "outputs": [],
   "source": [
    "X_red = np.random.multivariate_normal(mu_red, I, N)\n",
    "y_red = np.ones(shape=(N,1))\n",
    "\n",
    "X_blue = np.random.multivariate_normal(mu_blue, I, N)\n",
    "y_blue = -np.ones(shape=(N,1))"
   ]
  },
  {
   "cell_type": "markdown",
   "metadata": {},
   "source": [
    "Конечно, мы можем снова распечатать полученные матрицы. Но это не слишком наглядно. Давайте попробуем немного порисовать. Для этого мы воспользуемся новой библиотекой <a href=\"http://matplotlib.org/api/pyplot_summary.html\">pyplot</a>."
   ]
  },
  {
   "cell_type": "code",
   "execution_count": 7,
   "metadata": {
    "collapsed": true
   },
   "outputs": [],
   "source": [
    "import matplotlib.pyplot as pl"
   ]
  },
  {
   "cell_type": "markdown",
   "metadata": {},
   "source": [
    "Для того, чтобы все графики рисовались прям здесь, нужно вызвать небольшую команду."
   ]
  },
  {
   "cell_type": "code",
   "execution_count": 8,
   "metadata": {
    "collapsed": true
   },
   "outputs": [],
   "source": [
    "%matplotlib inline "
   ]
  },
  {
   "cell_type": "code",
   "execution_count": 9,
   "metadata": {
    "collapsed": false
   },
   "outputs": [
    {
     "data": {
      "text/plain": [
       "<matplotlib.collections.PathCollection at 0x11414cda0>"
      ]
     },
     "execution_count": 9,
     "metadata": {},
     "output_type": "execute_result"
    },
    {
     "data": {
      "image/png": "[encoded data removed]",
      "text/plain": [
       "<matplotlib.figure.Figure at 0x1140e0e10>"
      ]
     },
     "metadata": {},
     "output_type": "display_data"
    }
   ],
   "source": [
    "pl.figure(figsize=(16, 10))\n",
    "pl.axes()\n",
    "\n",
    "pl.scatter(X_red[:, 0], X_red[:, 1], s=80, color='red', alpha=0.3)\n",
    "pl.scatter(X_blue[:, 0], X_blue[:, 1], s=80, color='blue', alpha=0.3)"
   ]
  },
  {
   "cell_type": "markdown",
   "metadata": {},
   "source": [
    "Вот сейчас произошло много интересного. Во-первых, мы попробовали функцию <a = href=\"http://matplotlib.org/api/pyplot_api.html#matplotlib.pyplot.scatter\">scatter</a>. А во-вторых, научились делать срезы на матрицах из numpy. Подробнее об этом можно почитать <a href=\"http://docs.scipy.org/doc/numpy/user/basics.indexing.html\">здесь</a>."
   ]
  },
  {
   "cell_type": "markdown",
   "metadata": {},
   "source": [
    "### 2. Первое обучение."
   ]
  },
  {
   "cell_type": "markdown",
   "metadata": {},
   "source": [
    "Итак, мы хотим обучить свой первый линейный классификатор. Для этого мы хотим решить задачу линейной регрессии. Мы предполагаем, что"
   ]
  },
  {
   "cell_type": "markdown",
   "metadata": {},
   "source": [
    "<center> $\\hat{y} = w_0 + w_1x_1 + w_2x_2$, где  $w = (w_0, w_1, w_2)$. </center>"
   ]
  },
  {
   "cell_type": "markdown",
   "metadata": {},
   "source": [
    "Тогда, если приписать к X слева столбец из $1$, то все сводится к задаче"
   ]
  },
  {
   "cell_type": "markdown",
   "metadata": {},
   "source": [
    "<center>$\\begin{align*} \\min_{w} \\sum_{x \\in X} \\big(wx - y \\big)^2\\end{align*}$.</center>"
   ]
  },
  {
   "cell_type": "markdown",
   "metadata": {},
   "source": [
    "Для обучения воспользуемся библиотекой <a href=\"http://scikit-learn.org\">sklearn</a>. В частности нас интересует <a href=\"http://scikit-learn.org/stable/modules/linear_model.html#ordinary-least-squares\">квадритичная регрессия</a>."
   ]
  },
  {
   "cell_type": "code",
   "execution_count": 10,
   "metadata": {
    "collapsed": true
   },
   "outputs": [],
   "source": [
    "from sklearn import linear_model as lm"
   ]
  },
  {
   "cell_type": "markdown",
   "metadata": {},
   "source": [
    "Для начала нужно немного реорганизовать наши данные для обучения."
   ]
  },
  {
   "cell_type": "code",
   "execution_count": 11,
   "metadata": {
    "collapsed": false
   },
   "outputs": [],
   "source": [
    "X_train = np.vstack([X_red, X_blue])\n",
    "y_train = np.vstack([y_red, y_blue])"
   ]
  },
  {
   "cell_type": "markdown",
   "metadata": {},
   "source": [
    "А затем обучить модель."
   ]
  },
  {
   "cell_type": "code",
   "execution_count": 13,
   "metadata": {
    "collapsed": false
   },
   "outputs": [
    {
     "name": "stdout",
     "output_type": "stream",
     "text": [
      "(w0, w1, w2) = (0.16258286044077142, -0.31757388809858939, -0.16373028195739819)\n"
     ]
    }
   ],
   "source": [
    "classifier = lm.LinearRegression()\n",
    "classifier.fit(X_train, y_train)\n",
    "\n",
    "w0 = classifier.intercept_[0]\n",
    "w1, w2 = classifier.coef_[0][0], classifier.coef_[0][1]\n",
    "\n",
    "print('(w0, w1, w2) = {}'.format((w0, w1, w2)))"
   ]
  },
  {
   "cell_type": "markdown",
   "metadata": {},
   "source": [
    "Попробуем теперь построить разделяющуюу прямую."
   ]
  },
  {
   "cell_type": "code",
   "execution_count": 14,
   "metadata": {
    "collapsed": true
   },
   "outputs": [],
   "source": [
    "def l(x):\n",
    "    return -(w0 + w1*x)/w2"
   ]
  },
  {
   "cell_type": "code",
   "execution_count": 15,
   "metadata": {
    "collapsed": false
   },
   "outputs": [
    {
     "data": {
      "text/plain": [
       "[<matplotlib.lines.Line2D at 0x11136ca20>]"
      ]
     },
     "execution_count": 15,
     "metadata": {},
     "output_type": "execute_result"
    },
    {
     "data": {
      "image/png": "[encoded data removed]",
      "text/plain": [
       "<matplotlib.figure.Figure at 0x1163db400>"
      ]
     },
     "metadata": {},
     "output_type": "display_data"
    }
   ],
   "source": [
    "pl.figure(figsize=(16, 10))\n",
    "\n",
    "pl.scatter(X_red[:, 0], X_red[:, 1], s=80, color='red', alpha=0.3)\n",
    "pl.scatter(X_blue[:, 0], X_blue[:, 1], s=80, color='blue', alpha=0.3)\n",
    "\n",
    "pl.plot([-2, 2], [l(-2), l(2)], color='green', linewidth=4, alpha=0.3)"
   ]
  },
  {
   "cell_type": "markdown",
   "metadata": {},
   "source": [
    "### 3. Первое тестирование."
   ]
  },
  {
   "cell_type": "markdown",
   "metadata": {},
   "source": [
    "Очевидно, что такая способ генерации выборки не делает ее линейно разделимой, однако даже наша простая линейная может показывать уже какое-то пристойне качество. Давайте попробуем его подсчитать. Для этого воспользуемся самой интуитивно понятной метрикой - число неверных классификации.\n",
    "\n",
    "Для этого сгенерируем еще одну выборку, только уже тестовую."
   ]
  },
  {
   "cell_type": "code",
   "execution_count": 16,
   "metadata": {
    "collapsed": false
   },
   "outputs": [],
   "source": [
    "N_test = 100\n",
    "\n",
    "X_red_test = np.random.multivariate_normal(mu_red, I, N_test)\n",
    "y_red_test = np.ones(shape=(N_test, 1))\n",
    "\n",
    "X_blue_test = np.random.multivariate_normal(mu_blue, I, N_test)\n",
    "y_blue_test = -np.ones(shape=(N_test, 1))"
   ]
  },
  {
   "cell_type": "markdown",
   "metadata": {},
   "source": [
    "Соберем из этого тестовую выборку."
   ]
  },
  {
   "cell_type": "code",
   "execution_count": 17,
   "metadata": {
    "collapsed": false
   },
   "outputs": [],
   "source": [
    "X_test = np.vstack([X_red_test, X_blue_test])\n",
    "y_test = np.vstack([y_red_test, y_blue_test])"
   ]
  },
  {
   "cell_type": "markdown",
   "metadata": {
    "collapsed": true
   },
   "source": [
    "Для этого воспользуемся следующей <a href=\"http://scikit-learn.org/stable/modules/model_evaluation.html#accuracy-score\">метрикой</a>."
   ]
  },
  {
   "cell_type": "code",
   "execution_count": 18,
   "metadata": {
    "collapsed": false
   },
   "outputs": [],
   "source": [
    "from sklearn.metrics import accuracy_score as accuracy"
   ]
  },
  {
   "cell_type": "markdown",
   "metadata": {},
   "source": [
    "Сначала получим ответ классификатора."
   ]
  },
  {
   "cell_type": "code",
   "execution_count": 19,
   "metadata": {
    "collapsed": false
   },
   "outputs": [],
   "source": [
    "y_pred = classifier.predict(X_test)"
   ]
  },
  {
   "cell_type": "markdown",
   "metadata": {},
   "source": [
    "Но, так как мы на самом деле используем регрессионную модель, то отве нужно несколько причесать. Все числа больше 0 заменить на 1. А все меньшие на -1."
   ]
  },
  {
   "cell_type": "code",
   "execution_count": 20,
   "metadata": {
    "collapsed": true
   },
   "outputs": [],
   "source": [
    "y_pred[y_pred >= 0] = 1\n",
    "y_pred[y_pred < 0] = -1"
   ]
  },
  {
   "cell_type": "code",
   "execution_count": 21,
   "metadata": {
    "collapsed": false
   },
   "outputs": [
    {
     "name": "stdout",
     "output_type": "stream",
     "text": [
      "0.99\n"
     ]
    }
   ],
   "source": [
    "print(accuracy(y_test, y_pred))"
   ]
  }
 ],
 "metadata": {
  "kernelspec": {
   "display_name": "Python 3",
   "language": "python",
   "name": "python3"
  },
  "language_info": {
   "codemirror_mode": {
    "name": "ipython",
    "version": 3
   },
   "file_extension": ".py",
   "mimetype": "text/x-python",
   "name": "python",
   "nbconvert_exporter": "python",
   "pygments_lexer": "ipython3",
   "version": "3.5.1"
  }
 },
 "nbformat": 4,
 "nbformat_minor": 0
}
